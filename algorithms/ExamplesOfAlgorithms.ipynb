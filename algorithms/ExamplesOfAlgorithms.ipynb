{
 "cells": [
  {
   "cell_type": "code",
   "execution_count": 1,
   "metadata": {},
   "outputs": [],
   "source": [
    "import math"
   ]
  },
  {
   "cell_type": "code",
   "execution_count": 1,
   "metadata": {},
   "outputs": [],
   "source": [
    "def Euclidean_algorithm(a, b):\n",
    "    \"\"\"Is an efficient method for computing the greatest common divisor of two numbers (a, b)\"\"\"\n",
    "    while a != b:\n",
    "        if a > b:\n",
    "            a -= b\n",
    "        else:\n",
    "            b -= a\n",
    "    return a"
   ]
  },
  {
   "cell_type": "code",
   "execution_count": 2,
   "metadata": {},
   "outputs": [],
   "source": [
    "def Least_common_multiple(a, b):\n",
    "    \"\"\"Is the smallest positive integer that is divisible by both a and b\"\"\"\n",
    "    NWW = (a / Euclidean_algorithm(a, b)) * b\n",
    "    return NWW"
   ]
  },
  {
   "cell_type": "code",
   "execution_count": 4,
   "metadata": {},
   "outputs": [],
   "source": [
    "def Fermat_factorization(N):\n",
    "    \"\"\"The factorization method, the distriubtion of the number into prime factors\"\"\"\n",
    "    if N <= 0:\n",
    "        return 0\n",
    "    \n",
    "    i  = 2\n",
    "    e = math.floor(math.sqrt(N))\n",
    "    numbers = []\n",
    "    \n",
    "    while i <= e:\n",
    "        if N % i == 0:\n",
    "            numbers.append(i)\n",
    "            N /= i\n",
    "            e = e = math.floor(math.sqrt(N))\n",
    "        else:\n",
    "            i += 1\n",
    "    \n",
    "    if N > 1: numbers.append(N)\n",
    "    return numbers"
   ]
  },
  {
   "cell_type": "code",
   "execution_count": null,
   "metadata": {},
   "outputs": [],
   "source": []
  }
 ],
 "metadata": {
  "kernelspec": {
   "display_name": "Python 3",
   "language": "python",
   "name": "python3"
  },
  "language_info": {
   "codemirror_mode": {
    "name": "ipython",
    "version": 3
   },
   "file_extension": ".py",
   "mimetype": "text/x-python",
   "name": "python",
   "nbconvert_exporter": "python",
   "pygments_lexer": "ipython3",
   "version": "3.6.3"
  }
 },
 "nbformat": 4,
 "nbformat_minor": 2
}
