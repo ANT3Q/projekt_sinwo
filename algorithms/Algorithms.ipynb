{
 "cells": [
  {
   "cell_type": "code",
   "execution_count": 33,
   "metadata": {},
   "outputs": [
    {
     "name": "stdout",
     "output_type": "stream",
     "text": [
      "# Witaj w kalkulatorze funkcji Matematycznych\n",
      "#\n",
      "# Wersja: 0.1\n",
      "\n",
      "Wybierz Algorytm Matematyczny:\n",
      "\n",
      "1. Algorytm1\n",
      "2. Algorytm2\n",
      "3. Algorytm3\n",
      "\n",
      "test klasy3\n"
     ]
    }
   ],
   "source": [
    "##Proste menu wyboru funkcji do wykonania\n",
    "# Wersja 0.1\n",
    "version = \"0.1\"\n",
    "# projekt_sinwo\n",
    "# Mateusz Liber & Mateusz Latkowski\n",
    "\n",
    "#\n",
    "#\n",
    "#\n",
    "# Zbiór algorytmów gotowych do wykonania\n",
    "class klasa1:\n",
    "    \n",
    "    def __init__(self):\n",
    "        self.nazwa_funkcji = \"funkcja1\"\n",
    "        \n",
    "    def __repr__(self):\n",
    "        return \"test klasy1\"\n",
    "    \n",
    "    def __str__(self):\n",
    "        return self.__repr__()\n",
    "\n",
    "\n",
    "class klasa2:\n",
    "    \n",
    "    def __init__(self):\n",
    "        self.nazwa_funkcji = \"funkcja2\"\n",
    "    \n",
    "    def __repr__(self):\n",
    "        return \"test klasy2\"\n",
    "    \n",
    "    def __str__(self):\n",
    "        return self.__repr__()\n",
    "\n",
    "    \n",
    "class klasa3:\n",
    "    \n",
    "    def __init__(self):\n",
    "        self.nazwa_funkcji = \"funkcja3\"\n",
    "    \n",
    "    def __repr__(self):\n",
    "        return \"test klasy3\"\n",
    "    \n",
    "    def __str__(self):\n",
    "        return self.__repr__()\n",
    "\n",
    "#Koniec zbioru algorytmów\n",
    "#\n",
    "#\n",
    "#\n",
    "\n",
    "def main():\n",
    "    'Function contains simple selection menu'\n",
    "    task_list = [(klasa1, \"Algorytm1\"), (klasa2(), \"Algorytm2\"), (klasa3(), \"Algorytm3\")]\n",
    "    \n",
    "    # Napisy do użytkownika\n",
    "    print(\"# Witaj w kalkulatorze funkcji Matematycznych\")\n",
    "    print(\"#\")\n",
    "    print(\"# Wersja: \"+version)\n",
    "    print(\"\")\n",
    "    print(\"Wybierz Algorytm Matematyczny:\")\n",
    "    print(\"\")\n",
    "    \n",
    "    for i in range(len(task_list)):\n",
    "        print(str(i+1)+\". \"+str(task_list[i][1]))\n",
    "    \n",
    "    print(\"\")\n",
    "    task_tmp = input('Podaj numer algorytmu do wykonania: ')\n",
    "    \n",
    "    if(task_tmp==str(1)):\n",
    "        newTask = klasa1()\n",
    "    elif(task_tmp==str(2)):\n",
    "        newTask = klasa2()\n",
    "    elif(task_tmp==str(3)):\n",
    "        newTask = klasa3()\n",
    "    else:\n",
    "        print(\"Nieprawidłowy numer Algorytmu\")\n",
    "        \n",
    "    print(newTask)\n",
    "        \n",
    "main()"
   ]
  },
  {
   "cell_type": "code",
   "execution_count": 28,
   "metadata": {},
   "outputs": [
    {
     "ename": "NameError",
     "evalue": "name 'newTask' is not defined",
     "output_type": "error",
     "traceback": [
      "\u001b[0;31m---------------------------------------------------------------------------\u001b[0m",
      "\u001b[0;31mNameError\u001b[0m                                 Traceback (most recent call last)",
      "\u001b[0;32m<ipython-input-28-87d83736cba9>\u001b[0m in \u001b[0;36m<module>\u001b[0;34m()\u001b[0m\n\u001b[0;32m----> 1\u001b[0;31m \u001b[0mnewTask\u001b[0m\u001b[0;34m\u001b[0m\u001b[0m\n\u001b[0m",
      "\u001b[0;31mNameError\u001b[0m: name 'newTask' is not defined"
     ]
    }
   ],
   "source": [
    "newTask"
   ]
  },
  {
   "cell_type": "code",
   "execution_count": null,
   "metadata": {},
   "outputs": [],
   "source": []
  }
 ],
 "metadata": {
  "kernelspec": {
   "display_name": "Python 3",
   "language": "python",
   "name": "python3"
  },
  "language_info": {
   "codemirror_mode": {
    "name": "ipython",
    "version": 3
   },
   "file_extension": ".py",
   "mimetype": "text/x-python",
   "name": "python",
   "nbconvert_exporter": "python",
   "pygments_lexer": "ipython3",
   "version": "3.6.3"
  }
 },
 "nbformat": 4,
 "nbformat_minor": 2
}
